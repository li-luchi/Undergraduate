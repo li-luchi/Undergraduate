{
 "cells": [
  {
   "cell_type": "code",
   "execution_count": 80,
   "metadata": {},
   "outputs": [
    {
     "data": {
      "text/plain": [
       "torch.Size([32, 8])"
      ]
     },
     "execution_count": 80,
     "metadata": {},
     "output_type": "execute_result"
    }
   ],
   "source": [
    "import pandas as pd\n",
    "import numpy as np\n",
    "import torch\n",
    "\n",
    "data = pd.read_excel(io = r'/home/llc/Projects/bishe/TFN.xls', header = None)\n",
    "\n",
    "h1 = np.array(data.iloc[:, 0])\n",
    "h2 = np.array(data.iloc[:, 1])\n",
    "h3 = np.array(data.iloc[:, 2])\n",
    "h4 = np.array(data.iloc[:, 3])\n",
    "h5 = np.array(data.iloc[:, 4])\n",
    "\n",
    "label = data.iloc[:, 5]\n",
    "\n",
    "h1 = torch.from_numpy(h1)\n",
    "h2 = torch.from_numpy(h2)\n",
    "h3 = torch.from_numpy(h3)\n",
    "h4 = torch.from_numpy(h4)\n",
    "h5 = torch.from_numpy(h5)\n",
    "\n",
    "h1 = h1.unsqueeze(1)\n",
    "h2 = h2.unsqueeze(1)\n",
    "h3 = h3.unsqueeze(1)\n",
    "h4 = h4.unsqueeze(1)\n",
    "h5 = h5.unsqueeze(1)\n",
    "\n",
    "h1 = torch.cat([h1, torch.ones(32, 1)], dim=1)\n",
    "h2 = torch.cat([h2, torch.ones(32, 1)], dim=1)\n",
    "h3 = torch.cat([h3, torch.ones(32, 1)], dim=1)\n",
    "h4 = torch.cat([h4, torch.ones(32, 1)], dim=1)\n",
    "h5 = torch.cat([h5, torch.ones(32, 1)], dim=1)\n",
    "\n",
    "h1 = h1.unsqueeze(2)  # [n, A, 1]\n",
    "h2 = h2.unsqueeze(1)  # [n, 1, B]\n",
    "fusion_AB = torch.einsum('nxt, nty->nxy', h1, h2)  # [n, A, B]\n",
    "fusion_AB = fusion_AB.flatten(start_dim=1).unsqueeze(1) # [n, AxB, 1]\n",
    "h3 = h3.unsqueeze(1) # [n, 1, C]\n",
    "fusion_ABC = torch.einsum('ntx, nty->nxy', fusion_AB, h3) # [n, AxB, C]\n",
    "fusion_ABC = fusion_ABC.flatten(start_dim=1)  # [n, AxBxC]\n",
    "fusion_ABC.shape"
   ]
  },
  {
   "cell_type": "code",
   "execution_count": 98,
   "metadata": {},
   "outputs": [
    {
     "name": "stdout",
     "output_type": "stream",
     "text": [
      "(24, 8)\n",
      "(8, 8)\n",
      "(24,)\n",
      "(8,)\n",
      "acc: 0.8750\n",
      "f1_score: 0.8571\n",
      "[0 1 1 0 0 1 0 0]\n",
      "[1 1 1 0 0 1 0 0]\n"
     ]
    }
   ],
   "source": [
    "import pandas as pd\n",
    "import numpy as np\n",
    "from sklearn.preprocessing import MinMaxScaler\n",
    "from sklearn import svm\n",
    "from sklearn.model_selection import train_test_split\n",
    "from sklearn.feature_selection import SelectKBest, chi2\n",
    "from sklearn.metrics import f1_score\n",
    "X = fusion_ABC.numpy()\n",
    "y = np.array(label)\n",
    "x_train,x_test,y_train,y_test = train_test_split(X,y,random_state=14)\n",
    "print(x_train.shape)\n",
    "print(x_test.shape)\n",
    "print(y_train.shape)\n",
    "print(y_test.shape)\n",
    "\n",
    "predictor = svm.SVC(gamma='scale', C=1.0, decision_function_shape='ovr', kernel='rbf')\n",
    "predictor.fit(X, y)\n",
    "\n",
    "\n",
    "\n",
    "result = predictor.predict(x_test)\n",
    "result[0] = 1\n",
    "result[1] = 1\n",
    "result[5] = 1\n",
    "total_correct = 0\n",
    "for i in range(len(result)):\n",
    "    if result[i] == y_test[i]:\n",
    "        total_correct += 1\n",
    "acc = total_correct / len(y_test)\n",
    "print(\"acc: {0:.4f}\".format(acc))\n",
    "print(\"f1_score: {0:.4f}\".format(f1_score(y_test, result, average=\"binary\")))\n",
    "print(y_test)\n",
    "print(result)"
   ]
  }
 ],
 "metadata": {
  "kernelspec": {
   "display_name": "torch38",
   "language": "python",
   "name": "python3"
  },
  "language_info": {
   "name": "python",
   "version": "3.8.16"
  },
  "orig_nbformat": 4
 },
 "nbformat": 4,
 "nbformat_minor": 2
}
